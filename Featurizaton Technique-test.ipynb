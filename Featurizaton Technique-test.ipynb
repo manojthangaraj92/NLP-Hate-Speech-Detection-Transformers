{
 "cells": [
  {
   "cell_type": "markdown",
   "id": "47c57dbd",
   "metadata": {},
   "source": [
    "# NLP HateSpeech Detection using Transformers (Deep Learninng)\n",
    "\n",
    "_Deep Learning Project_\n",
    "\n",
    "----\n",
    "\n",
    "## Featurization technique Manual \n",
    "\n",
    "The one of the tested technique is presented here. The Other technique is with the main notebook.\n"
   ]
  },
  {
   "cell_type": "code",
   "execution_count": 6,
   "id": "8c68ee6a",
   "metadata": {},
   "outputs": [],
   "source": [
    "from sklearn.model_selection import train_test_split\n",
    "import pandas as pd\n",
    "import numpy as np\n",
    "#from utility import review_to_words\n",
    "from sklearn.utils import shuffle\n",
    "from sklearn.model_selection import train_test_split\n",
    "\n",
    "\n",
    "#def data_load(file = 'train_E6oV3lV.csv', test_split: float = 0.1, random_seed: int = 3):\n",
    "df = pd.read_csv('train_E6oV3lV.csv')\n",
    "df = df.drop(['id'], axis=1)\n",
    "X = df['tweet']\n",
    "y = df['label']\n",
    "X_train, X_test, y_train, y_test = train_test_split(X, y, test_size=0.33)\n",
    "train_X, train_y = shuffle(X_train, y_train)\n",
    "test_X, test_y = shuffle(X_test, y_test)\n",
    "#train_X = train_X.apply(lambda x:review_to_words(x))\n"
   ]
  },
  {
   "cell_type": "code",
   "execution_count": 7,
   "id": "f9f7f3df",
   "metadata": {},
   "outputs": [
    {
     "name": "stdout",
     "output_type": "stream",
     "text": [
      "@user @user thanks for #lyft credit i can't use cause they don't offer wheelchair vans in pdx.    #disapointed #getthanked\n",
      "0\n"
     ]
    }
   ],
   "source": [
    "#print the train and test tweet\n",
    "print(train_X[1])\n",
    "print(train_y[1])"
   ]
  },
  {
   "cell_type": "code",
   "execution_count": 8,
   "id": "b7f0c23f",
   "metadata": {},
   "outputs": [],
   "source": [
    "#steps for cleaning and tokenization\n",
    "\n",
    "import nltk\n",
    "from nltk.corpus import stopwords\n",
    "from nltk.stem.porter import *\n",
    "\n",
    "import re\n",
    "from bs4 import BeautifulSoup\n",
    "\n",
    "def review_to_words(review):\n",
    "    nltk.download(\"stopwords\", quiet=True)\n",
    "    stemmer = PorterStemmer()\n",
    "    \n",
    "    text = BeautifulSoup(review, \"html.parser\").get_text() # Remove HTML tags\n",
    "    text = re.sub(r\"[^a-zA-Z0-9]\", \" \", text.lower()) # Convert to lower case\n",
    "    words = text.split() # Split string into words\n",
    "    words = [w for w in words if w not in stopwords.words(\"english\")] # Remove stopwords\n",
    "    words = [PorterStemmer().stem(w) for w in words] # stem\n",
    "    \n",
    "    return words"
   ]
  },
  {
   "cell_type": "code",
   "execution_count": 9,
   "id": "533bf503",
   "metadata": {},
   "outputs": [
    {
     "name": "stdout",
     "output_type": "stream",
     "text": [
      "['truli', 'sick', 'ppl']\n"
     ]
    }
   ],
   "source": [
    "#try apply for one of the tweets\n",
    "x = review_to_words(train_X[100])\n",
    "print(x)"
   ]
  },
  {
   "cell_type": "code",
   "execution_count": 10,
   "id": "bb9ea994",
   "metadata": {},
   "outputs": [],
   "source": [
    "import pickle\n",
    "#from utility import review_to_words\n",
    "\n",
    "def preprocess_data(data_train, data_test, labels_train, labels_test,):\n",
    "    \"\"\"Convert each review to words; read from cache if available.\"\"\"\n",
    "    words_train = [review_to_words(review) for review in data_train]\n",
    "    words_test = [review_to_words(review) for review in data_test]\n",
    "    return words_train, words_test, labels_train, labels_test"
   ]
  },
  {
   "cell_type": "code",
   "execution_count": 11,
   "id": "59a8e7c0",
   "metadata": {},
   "outputs": [],
   "source": [
    "# Preprocess data\n",
    "train_X, test_X, train_y, test_y = preprocess_data(train_X, test_X, train_y, test_y)"
   ]
  },
  {
   "cell_type": "code",
   "execution_count": 12,
   "id": "b5121d85",
   "metadata": {},
   "outputs": [
    {
     "data": {
      "text/plain": [
       "['sad',\n",
       " 'man',\n",
       " 'draw',\n",
       " 'sketch',\n",
       " 'characterdesign',\n",
       " 'nerd',\n",
       " 'geek',\n",
       " 'friday',\n",
       " 'flower',\n",
       " 'dead',\n",
       " 'caoon']"
      ]
     },
     "execution_count": 12,
     "metadata": {},
     "output_type": "execute_result"
    }
   ],
   "source": [
    "#check for the data if preprocessed\n",
    "train_X[50]"
   ]
  },
  {
   "cell_type": "code",
   "execution_count": 13,
   "id": "cfe664d5",
   "metadata": {},
   "outputs": [
    {
     "name": "stdout",
     "output_type": "stream",
     "text": [
      "Wrote preprocessed data to cache file\n"
     ]
    }
   ],
   "source": [
    "cache_data = dict(words_train=train_X, words_test=test_X,\n",
    "                              labels_train=train_y, labels_test=test_y)\n",
    "with open('preprocessed.pkl', \"wb\") as f:\n",
    "    pickle.dump(cache_data, f)\n",
    "\n",
    "print(\"Wrote preprocessed data to cache file\")"
   ]
  },
  {
   "cell_type": "code",
   "execution_count": 14,
   "id": "d4d8992f",
   "metadata": {},
   "outputs": [],
   "source": [
    "import numpy as np\n",
    "\n",
    "def build_dict(data, vocab_size = 5000):\n",
    "    \"\"\"Construct and return a dictionary mapping each of the most frequently appearing words to a unique integer.\"\"\"\n",
    "    \n",
    "    # TODO: Determine how often each word appears in `data`. Note that `data` is a list of sentences and that a\n",
    "    #       sentence is a list of words.\n",
    "    \n",
    "    word_count = {} # A dict storing the words that appear in the reviews along with how often they occur\n",
    "    for item in data:\n",
    "        for word in item:\n",
    "            if word not in word_count:\n",
    "                word_count[word] = 1\n",
    "            else:\n",
    "                word_count[word] += 1\n",
    "    # TODO: Sort the words found in `data` so that sorted_words[0] is the most frequently appearing word and\n",
    "    #       sorted_words[-1] is the least frequently appearing word.\n",
    "    \n",
    "    sorted_words = sorted(word_count, key = word_count.get, reverse = True)\n",
    "    \n",
    "    word_dict = {} # This is what we are building, a dictionary that translates words into integers\n",
    "    for idx, word in enumerate(sorted_words[:vocab_size - 2]): # The -2 is so that we save room for the 'no word'\n",
    "        word_dict[word] = idx + 2                              # 'infrequent' labels\n",
    "        \n",
    "    return word_dict"
   ]
  },
  {
   "cell_type": "code",
   "execution_count": 15,
   "id": "7112e0da",
   "metadata": {},
   "outputs": [],
   "source": [
    "# BUild the word dictionary\n",
    "word_dict = build_dict(train_X)"
   ]
  },
  {
   "cell_type": "code",
   "execution_count": 16,
   "id": "6109ee05",
   "metadata": {},
   "outputs": [
    {
     "name": "stdout",
     "output_type": "stream",
     "text": [
      "['user', 'love', 'day', 'happi', 'thank', 'get', 'time', 'life', 'go', 'u', 'like', 'today', 'new', 'posit', 'make', 'father', 'smile', 'see', 'peopl', 'good', 'bihday', 'one', 'want', 'work', 'feel', 'take', 'look', 'friend', 'beauti', 'come', 'need', 'healthi', 'girl', 'wait', 'weekend', 'famili', '2', 'live', 'fun', 'week', 'summer', 'way', 'bull', 'got', 'year', 'think', 'us', 'friday', 'great', 'best', 'music', 'first', 'follow', 'sta', 'know', 'morn', '3', 'back', 'say', 'world', 'watch', 'realli', 'sad', 'thing', 'home', 'dad', 'ur', 'never', 'tomorrow', 'final', 'cute', 'even', '1', 'affirm', 'blog', 'right', 'orlando', 'night', 'model', 'trump', 'sunday', 'fathersday', 'well', 'much', 'last', 'play', 'find', 'bless', 'let', 'hope', 'show', 'next', 'alway', 'amaz', '4', 'selfi', 'guy', 'excit', 'still', 'quot']\n"
     ]
    }
   ],
   "source": [
    "print(list(word_dict.keys())[0:100])"
   ]
  },
  {
   "cell_type": "code",
   "execution_count": 17,
   "id": "7b95b432",
   "metadata": {},
   "outputs": [
    {
     "name": "stdout",
     "output_type": "stream",
     "text": [
      "Wrote preprocessed data to pickle file\n"
     ]
    }
   ],
   "source": [
    "with open('word_dict.pkl', \"wb\") as f:\n",
    "    pickle.dump(word_dict, f)\n",
    "\n",
    "print(\"Wrote preprocessed data to pickle file\")"
   ]
  },
  {
   "cell_type": "code",
   "execution_count": 18,
   "id": "3ce712cf",
   "metadata": {},
   "outputs": [],
   "source": [
    "def convert_and_pad(word_dict, sentence, pad=256):\n",
    "    NOWORD = 0 # We will use 0 to represent the 'no word' category\n",
    "    INFREQ = 1 # and we use 1 to represent the infrequent words, i.e., words not appearing in word_dict\n",
    "    \n",
    "    working_sentence = [NOWORD] * pad\n",
    "    \n",
    "    for word_index, word in enumerate(sentence[:pad]):\n",
    "        if word in word_dict:\n",
    "            working_sentence[word_index] = word_dict[word]\n",
    "        else:\n",
    "            working_sentence[word_index] = INFREQ\n",
    "            \n",
    "    return working_sentence, min(len(sentence), pad)\n",
    "\n",
    "def convert_and_pad_data(word_dict, data, pad=256):\n",
    "    result = []\n",
    "    lengths = []\n",
    "    \n",
    "    for sentence in data:\n",
    "        converted, leng = convert_and_pad(word_dict, sentence, pad)\n",
    "        result.append(converted)\n",
    "        lengths.append(leng)\n",
    "        \n",
    "    return np.array(result), np.array(lengths)"
   ]
  },
  {
   "cell_type": "code",
   "execution_count": 19,
   "id": "689e9c6c",
   "metadata": {},
   "outputs": [],
   "source": [
    "train_X, train_X_len = convert_and_pad_data(word_dict, train_X)\n",
    "test_X, test_X_len = convert_and_pad_data(word_dict, test_X)"
   ]
  },
  {
   "cell_type": "code",
   "execution_count": 20,
   "id": "4fbe5ad3",
   "metadata": {},
   "outputs": [
    {
     "name": "stdout",
     "output_type": "stream",
     "text": [
      "[  62 2542   20    0    0    0    0    0    0    0    0    0    0    0\n",
      "    0    0    0    0    0    0    0    0    0    0    0    0    0    0\n",
      "    0    0    0    0    0    0    0    0    0    0    0    0    0    0\n",
      "    0    0    0    0    0    0    0    0    0    0    0    0    0    0\n",
      "    0    0    0    0    0    0    0    0    0    0    0    0    0    0\n",
      "    0    0    0    0    0    0    0    0    0    0    0    0    0    0\n",
      "    0    0    0    0    0    0    0    0    0    0    0    0    0    0\n",
      "    0    0    0    0    0    0    0    0    0    0    0    0    0    0\n",
      "    0    0    0    0    0    0    0    0    0    0    0    0    0    0\n",
      "    0    0    0    0    0    0    0    0    0    0    0    0    0    0\n",
      "    0    0    0    0    0    0    0    0    0    0    0    0    0    0\n",
      "    0    0    0    0    0    0    0    0    0    0    0    0    0    0\n",
      "    0    0    0    0    0    0    0    0    0    0    0    0    0    0\n",
      "    0    0    0    0    0    0    0    0    0    0    0    0    0    0\n",
      "    0    0    0    0    0    0    0    0    0    0    0    0    0    0\n",
      "    0    0    0    0    0    0    0    0    0    0    0    0    0    0\n",
      "    0    0    0    0    0    0    0    0    0    0    0    0    0    0\n",
      "    0    0    0    0    0    0    0    0    0    0    0    0    0    0\n",
      "    0    0    0    0]\n",
      "3\n"
     ]
    }
   ],
   "source": [
    "print(train_X[100])\n",
    "print(train_X_len[100])"
   ]
  },
  {
   "cell_type": "code",
   "execution_count": 22,
   "id": "3db0dee9",
   "metadata": {},
   "outputs": [],
   "source": [
    "import pandas as pd\n",
    "import os\n",
    "    \n",
    "df_pro = pd.concat([pd.DataFrame(train_y), pd.DataFrame(train_X)], axis=1) \\\n",
    "        .to_csv(os.path.join('train.csv'), header=False, index=False)"
   ]
  },
  {
   "cell_type": "markdown",
   "id": "a22e2de4",
   "metadata": {},
   "source": []
  }
 ],
 "metadata": {
  "kernelspec": {
   "display_name": "Python 3",
   "language": "python",
   "name": "python3"
  },
  "language_info": {
   "codemirror_mode": {
    "name": "ipython",
    "version": 3
   },
   "file_extension": ".py",
   "mimetype": "text/x-python",
   "name": "python",
   "nbconvert_exporter": "python",
   "pygments_lexer": "ipython3",
   "version": "3.8.8"
  }
 },
 "nbformat": 4,
 "nbformat_minor": 5
}
